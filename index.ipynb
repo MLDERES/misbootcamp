{
 "cells": [
  {
   "cell_type": "code",
   "execution_count": 1,
   "metadata": {},
   "outputs": [],
   "source": [
    "import ipywidgets as widgets\n",
    "from IPython.display import display\n",
    "from ipywidgets import interact\n",
    "from ipywidgets.widgets import Button, Output\n"
   ]
  },
  {
   "cell_type": "code",
   "execution_count": 2,
   "metadata": {},
   "outputs": [
    {
     "data": {
      "application/vnd.jupyter.widget-view+json": {
       "model_id": "52c993af9fb64645b4c9b2b7715c3686",
       "version_major": 2,
       "version_minor": 0
      },
      "text/plain": [
       "Button(description='Test Code', style=ButtonStyle())"
      ]
     },
     "metadata": {},
     "output_type": "display_data"
    }
   ],
   "source": [
    "test_button = widgets.Button(description='Test Code')\n",
    "display(test_button)"
   ]
  },
  {
   "cell_type": "code",
   "execution_count": 3,
   "metadata": {},
   "outputs": [
    {
     "data": {
      "application/vnd.jupyter.widget-view+json": {
       "model_id": "14bcec67909a43598eaca5a05a8f5e30",
       "version_major": 2,
       "version_minor": 0
      },
      "text/plain": [
       "interactive(children=(IntSlider(value=0, description='ii', max=99), Dropdown(description='cmap', options=('coo…"
      ]
     },
     "metadata": {},
     "output_type": "display_data"
    }
   ],
   "source": [
    "cmaps = ['coolwarm', 'viridis', 'magma']\n",
    "def plot_data(ii, cmap):\n",
    "    fig, ax = plt.subplots()\n",
    "    cmap = plt.get_cmap(cmap)\n",
    "    color = cmap(ii / 100.)\n",
    "    ax.plot(data[ii], color=color)\n",
    "    ax.set_ylim([0, 1000])\n",
    "    plt.show()\n",
    "    \n",
    "p = interact(plot_data, ii=IntSlider(0, 0, 99), cmap=Dropdown(options=cmaps))"
   ]
  },
  {
   "cell_type": "code",
   "execution_count": null,
   "metadata": {},
   "outputs": [],
   "source": []
  }
 ],
 "metadata": {
  "kernelspec": {
   "display_name": "Python 3",
   "language": "python",
   "name": "python3"
  },
  "language_info": {
   "codemirror_mode": {
    "name": "ipython",
    "version": 3
   },
   "file_extension": ".py",
   "mimetype": "text/x-python",
   "name": "python",
   "nbconvert_exporter": "python",
   "pygments_lexer": "ipython3",
   "version": "3.7.5"
  }
 },
 "nbformat": 4,
 "nbformat_minor": 4
}
