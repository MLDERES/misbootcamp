{
 "cells": [
  {
   "cell_type": "markdown",
   "metadata": {},
   "source": [
    "# On the way to programming with Python\n",
    "By now you have a solid understanding of a few of the data types that Python makes available to everyone.  Numbers, strings and lists.  But often times we want to do more than just Python as a fancy calculator or simple word processor, for this need to combine together a set of actions that will be completed over and over again.  Let's take a look at a set of statements that calculates the Fibonacci series."
   ]
  },
  {
   "cell_type": "code",
   "execution_count": 2,
   "metadata": {},
   "outputs": [
    {
     "name": "stdout",
     "output_type": "stream",
     "text": [
      "0\n",
      "1\n",
      "2\n",
      "4\n",
      "8\n"
     ]
    }
   ],
   "source": [
    "a, b = 0, 1 # Here are just initializing the variables a and b to 0 and 1 respectively\n",
    "while a < 10:\n",
    "    print (a)\n",
    "    a = b\n",
    "    b = a+b\n",
    "print('All done.')"
   ]
  },
  {
   "cell_type": "markdown",
   "metadata": {},
   "source": [
    "So what's happening here?\n",
    "- The first line assigns the value of 0 and 1 to the variables `a` and `b` respectively.  we could have done this in two lines, first assigning `a` and then `b` on two separate lines\n",
    "- Next the `while` starts a loop that will execute all the statements that are in the body until the condition that is provided is true (`a < 10`).  In Python, any non-zero integer value is true; zero is false.  This test uses a simple comparison `<`, we can use many different kinds of comparisons `>`, `==`, `<=` for instance or any expression that results in a boolean value (either `True` or `False`)\n",
    "- The _body_ of the loop is indented.  Indention is how Python decides that statements should be grouped together.  All the statements that should be in the body of the function need to be indented the exact same number of spaces (usually 4), most Python editors know to automatically indent lines in a group, but they don't know when you are done with the grouping, so it's up to you to un-indent when you are done closing the body.  You will see in the example above, that the first `print` statement and two assignment statements are indented 4 spaces after the while statement.  The second `print` statement is on the same level as the `while`.  This means that until the condition is met, these three expressions in the body will be executed and only after the while completes will the final `print` be run."
   ]
  },
  {
   "cell_type": "markdown",
   "metadata": {},
   "source": [
    "# Flow Control\n",
    "Python has many of the same features as other languages to manage the control of the logic steps in the function.  In this next section we'll take a look at them\n",
    "\n",
    "## if statements\n",
    "The most well-worn statement in all of programming is the `if` statement.  This expressions says, _if the following condition is true, then execute the next block of code_ for instance"
   ]
  },
  {
   "cell_type": "code",
   "execution_count": null,
   "metadata": {},
   "outputs": [],
   "source": [
    "x = int(input(\"please enter integer\"))\n",
    "if x < 10:\n",
    "    x = 0\n",
    "    print('Negative numbers set to zero')\n",
    "elif x == 0:\n",
    "    print('Zero')\n",
    "elif x == 1: \n",
    "    print('One')\n",
    "else:\n",
    "    print('More')"
   ]
  },
  {
   "cell_type": "markdown",
   "metadata": {},
   "source": [
    "# TODO: Explain the last section"
   ]
  },
  {
   "cell_type": "markdown",
   "metadata": {},
   "source": [
    "## for statements\n"
   ]
  }
 ],
 "metadata": {
  "kernelspec": {
   "display_name": "Python 3",
   "language": "python",
   "name": "python3"
  },
  "language_info": {
   "codemirror_mode": {
    "name": "ipython",
    "version": 3
   },
   "file_extension": ".py",
   "mimetype": "text/x-python",
   "name": "python",
   "nbconvert_exporter": "python",
   "pygments_lexer": "ipython3",
   "version": "3.7.5"
  }
 },
 "nbformat": 4,
 "nbformat_minor": 4
}
