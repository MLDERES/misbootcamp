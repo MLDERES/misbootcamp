{
 "metadata": {
  "language_info": {
   "codemirror_mode": {
    "name": "ipython",
    "version": 3
   },
   "file_extension": ".py",
   "mimetype": "text/x-python",
   "name": "python",
   "nbconvert_exporter": "python",
   "pygments_lexer": "ipython3",
   "version": "3.8.8"
  },
  "orig_nbformat": 2,
  "kernelspec": {
   "name": "python3",
   "display_name": "Python 3.8.8 64-bit ('base': conda)"
  },
  "interpreter": {
   "hash": "98b0a9b7b4eaaa670588a142fd0a9b87eaafe866f1db4228be72b4211d12040f"
  }
 },
 "nbformat": 4,
 "nbformat_minor": 2,
 "cells": [
  {
   "cell_type": "markdown",
   "source": [
    "# Table of Contents\n",
    "\n",
    "[1 - Introduction](1-Introduction.ipynb)<br/>\n",
    "[2 - Flow Control](2-Flow_Control.ipynb)<br/>\n",
    "[3 - Functions](3-Functions.ipynb)<br/>\n",
    "[4 - Your Turn](YourTurn.ipynb)<br/>\n",
    "[Coding Challenges](Coding_Challenges.ipynb)\n",
    "<br/>\n"
   ],
   "metadata": {}
  }
 ]
}