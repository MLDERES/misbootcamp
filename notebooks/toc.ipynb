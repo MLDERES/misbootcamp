{
 "metadata": {
  "language_info": {
   "codemirror_mode": {
    "name": "ipython",
    "version": 3
   },
   "file_extension": ".py",
   "mimetype": "text/x-python",
   "name": "python",
   "nbconvert_exporter": "python",
   "pygments_lexer": "ipython3",
   "version": 3
  },
  "orig_nbformat": 2
 },
 "nbformat": 4,
 "nbformat_minor": 2,
 "cells": [
  {
   "cell_type": "markdown",
   "metadata": {},
   "source": [
    "# Table of Contents\n",
    "\n",
    "[1 - Introduction](1\\-Introduction.ipynb)<br/>\n",
    "[2 - Flow Control](2\\-Flow_Control.ipynb)<br/>\n",
    "[3 - Functions](3\\-Functions.ipynb)<br/>\n",
    "<br/>\n",
    "[Coding Challenges](coding_challenges.ipynb)"
   ]
  }
 ]
}