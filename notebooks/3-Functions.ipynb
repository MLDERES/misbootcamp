{
 "cells": [
  {
   "cell_type": "markdown",
   "source": [
    "# Defining Functions\n",
    "One of the fundamental skills that every programmer must have is the ability to make their code reusable.  Not just cut/paste reusable, but being able to be reused with in a variety of conditions without having to rework the code.\n",
    "<br><br>\n",
    "Functions (in other languages called subroutines) are self-contained lines of code which accomplish a specific task.  Functions can \"take in\" data, process it, and then \"return\" a result.\n",
    "<br>\n",
    "Functions can replace several lines of code into a single statement when used, because they \"encapsulate\" the details.  For instance, Python provides a function to find the square root of a number.  We don't want to know how this is done, we just want the program to do it!  Let's consider a simple example:\n",
    "```python\n",
    "def add(a, b):\n",
    "    c = a+b\n",
    "    return c\n",
    "```\n",
    "Here we have a function named ```add```, we know it is a Python function because it has the word ```def``` in front of the name.  Our ```add``` function \"takes in\" two values named ```a``` and ```b```, these two values become variables that exist only while the function is called we call these _function parameters_.  Finally, the function does something useful and returns the result ```c```.  So now, when we want to use this function, we just need to specify the name of the function, the value for the two parameters and collect the result into another variable."
   ],
   "metadata": {}
  },
  {
   "cell_type": "code",
   "execution_count": null,
   "source": [
    "def add(a, b):\n",
    "    c = a+b\n",
    "    return c\n",
    "\n",
    "return_value = add(5,4)\n",
    "print(return_value)"
   ],
   "outputs": [],
   "metadata": {}
  },
  {
   "cell_type": "markdown",
   "source": [
    "This is a very simple example of course and the number of lines in a function can be very long.  As a matter of fact we can even call other functions inside of our functions."
   ],
   "metadata": {}
  },
  {
   "cell_type": "code",
   "execution_count": null,
   "source": [
    "def multiply(x,y):\n",
    "    z = 0\n",
    "    for i in range(y): \n",
    "        z = add(z,y) # Calling our add function\n",
    "    return z\n",
    "\n",
    "print(multiply(5, 4))"
   ],
   "outputs": [],
   "metadata": {}
  },
  {
   "cell_type": "markdown",
   "source": [
    "## Why write functions?\n",
    "<ol><li><b>Functions all us to conceive the program as a series of steps where each substep is it's own function.</b><br/> When a program seems too difficult, break down the substeps into it's own function.  And if necessary, break that sub-step down into another function, keep going until each substep is understandable and does exactly one task, then combine the steps together into bigger subtasks.</li>\n",
    "    <li><b>Functions allow us to reuse code.</b><br/> This is essential, because it saves us from typos, ensures that we are doing calculations and tasks consistently whereever it is used and even allows others to use our code without understanding how the subtask is executed.</li>\n",
    "    <li><b>Functions encapsulate the variables keeping our \"namespace\" clean.</b><br/>  Since a, b, and c only contains values when the function is called, we can use the variable names a, b and c as parameters in other functions or in our main code without confusion.</li>\n",
    "    <li><b>Functions allow us to test our program in small pieces.</b><br/>  If we can execute a part of our program correctly by calling just one function, then we can continue to build our program knowing that the building blocks are solid.</li></ol>"
   ],
   "metadata": {}
  },
  {
   "cell_type": "markdown",
   "source": [
    "## Your turn\n",
    "Okay, let's write a couple of functions.  In the next cell, write the ```subtract``` and ```divide``` functions.  After you have written your function, run the cell and see if you get the value you expect."
   ],
   "metadata": {}
  },
  {
   "cell_type": "code",
   "execution_count": null,
   "source": [
    "# Start by defining the subtract function.  \n",
    "# Don't forget to indent the code block the function name\n",
    "\n",
    "\n"
   ],
   "outputs": [],
   "metadata": {}
  },
  {
   "cell_type": "markdown",
   "source": [
    "## Best Practices\n",
    "There are a few things that should be considered when creating functions in any language and a few things that are specfic to Python.\n",
    "<ul><li><b>Functions should perform exactly one task.</b><br/> Functions should have a very specific and limited intention.</li>\n",
    "<li><b>Documenting your function is a must.</b><br/>  You may not believe this now, but even the best programmers forget how their function is supposed to work or what it was supposed to do when the come back to use it a few days, months or years later.  The convention in Python is to write documentation comments immediately after the function definition.</li>\n",
    "<br/>\n",
    "<div style=\"indent:20px\">There are several different common formats <a href=\"https://github.com/google/styleguide/blob/gh-pages/pyguide.md#38-comments-and-docstrings\">Google has their own</a>, another is based on <a href=\"https://en.wikipedia.org/wiki/ReStructuredText\">reStructuredText - ReST</a>, and also <a href=\"https://numpydoc.readthedocs.io/en/latest/format.html\">numpydoc</a>. Which format you choose is mostly up to you, although sometimes a project will already have defined the standard when you get to work on it.<div>\n",
    "<br/>\n",
    "<li><b>Function names, and their parameters should be as descriptive as possible.</b><br/> While these examples above use parameter names like a and b (there is no reason to name them differently) the function names themselves immediately tell you the purpose and do exactly what you expect (add numbers, subtract numbers).</li>\n",
    "<li><b>Function names ought to use all lowercase letters and use '_' to separate words.</b><br/> If your function name is more than a single word, it is common practice (in Python, other languages differ) to separate the names with an `_` character.  For instance</li><br/>\n",
    "\n",
    "```python\n",
    "\n",
    "```"
   ],
   "metadata": {}
  },
  {
   "cell_type": "code",
   "execution_count": null,
   "source": [
    "def power(x,y):\n",
    "    ''' \n",
    "    Raises x to the power of y and returns the result\n",
    "    \n",
    "    Parameters:\n",
    "    -----------\n",
    "    x: int - the base number\n",
    "    y: int - the exponent\n",
    "    \n",
    "    Returns:\n",
    "    --------\n",
    "    int : result of performing the operation\n",
    "    \n",
    "    Example:\n",
    "    --------\n",
    "    >>> power(2,3)\n",
    "    8\n",
    "    \n",
    "    '''\n",
    "    return x ** y\n",
    "\n",
    "\n",
    "def add_subtract(x, y, add=True):\n",
    "    '''\n",
    "    This function will either add or subtract the two values provided\n",
    "\n",
    "    Parameters\n",
    "    ----------\n",
    "    x : int\n",
    "        the first value in the equation\n",
    "    y : int \n",
    "        the second value in equation\n",
    "\n",
    "    Returns:\n",
    "    --------\n",
    "    int : result of performing the operation\n",
    "    \n",
    "    Example:\n",
    "    --------\n",
    "    >>> add_subtract(4,4)\n",
    "    8\n",
    "    >>> add_subtract(3,8, True)\n",
    "    11\n",
    "    >>> add_subtract(4,4, add=False)\n",
    "    0\n",
    "    >>> add_subtract(3,8, False)\n",
    "    -5\n",
    "    '''"
   ],
   "outputs": [],
   "metadata": {}
  },
  {
   "cell_type": "markdown",
   "source": [
    "# Conclusion\n",
    "You've learned quite a bit in this set of exercises and probably already knew some it.  Next, try out the [Coding Challenges](coding_challenges.ipynb) to put your skills to the test.\n",
    "\n",
    "[prev (Flow Control)](2-Flow_Control.ipynb)   |   [next (Coding Challenges)](Coding_Challenges.ipynb)   |   [index](toc.ipynb)"
   ],
   "metadata": {}
  }
 ],
 "metadata": {
  "kernelspec": {
   "name": "python3",
   "display_name": "Python 3.8.8 64-bit ('base': conda)"
  },
  "language_info": {
   "codemirror_mode": {
    "name": "ipython",
    "version": 3
   },
   "file_extension": ".py",
   "mimetype": "text/x-python",
   "name": "python",
   "nbconvert_exporter": "python",
   "pygments_lexer": "ipython3",
   "version": "3.8.8"
  },
  "interpreter": {
   "hash": "98b0a9b7b4eaaa670588a142fd0a9b87eaafe866f1db4228be72b4211d12040f"
  }
 },
 "nbformat": 4,
 "nbformat_minor": 4
}