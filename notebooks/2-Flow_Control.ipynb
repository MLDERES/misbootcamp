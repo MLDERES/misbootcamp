{
 "cells": [
  {
   "cell_type": "code",
   "execution_count": 5,
   "metadata": {},
   "outputs": [],
   "source": [
    "from IPython.core.interactiveshell import InteractiveShell\n",
    "InteractiveShell.ast_node_interactivity = \"all\""
   ]
  },
  {
   "cell_type": "markdown",
   "metadata": {},
   "source": [
    "# On the way to programming with Python\n",
    "By now you have a solid understanding of a few of the data types that Python makes available to everyone.  Numbers, strings and lists.  But often times we want to do more than just Python as a fancy calculator or simple word processor, for this need to combine together a set of actions that will be completed over and over again.  \n",
    "\n",
    "Let's take a quick look at a loop that counts from 1 to 10\n",
    "\n",
    "**Before going on, make sure that you have run the first cell in this notebook otherwise you may not see all the output that is intended**"
   ]
  },
  {
   "cell_type": "code",
   "execution_count": 4,
   "metadata": {
    "tags": []
   },
   "outputs": [
    {
     "output_type": "stream",
     "name": "stdout",
     "text": "0\n1\n2\n3\n4\n5\n6\n7\n8\n9\n10\nAll Done\n"
    }
   ],
   "source": [
    "counter = 0\n",
    "while counter <= 10:\n",
    "    print(f'{counter}')\n",
    "    counter = counter + 1\n",
    "\n",
    "print('All Done')"
   ]
  },
  {
   "cell_type": "markdown",
   "metadata": {},
   "source": [
    "So what's happening here?\n",
    "- The first line assigns the value of 0 to the variable `counter`\n",
    "- Next the `while` statement checks to see if the test `counter <= 10` is `True`, if it is then all the statements that are indented after the `while` statement are executed in order.  (In Python, any non-zero integer value is `True`; and zero is `False`.  This test uses a simple comparison `<=` (less than or equal), we can use many different kinds of comparisons `>`, `==`, `<=` for instance or any expression that results in a boolean value (e.g. `True` or `False`)\n",
    "- The _body_ of the loop - the statements to be executed when the condition is `True` are indented.  Indention is how Python decides that statements should be grouped together.  All the statements that should be in the body of the function need to be indented the exact same number of spaces (usually 4), most Python editors know to automatically indent lines in a group, but they don't know when you are done with the grouping, so it's up to you to un-indent when you are done closing the body.\n",
    "- Once all the indented statements are executed, Python goes back up to the top of the loop (to the `while` statement) and checks again if the statement is `True` or `False`, if it is still `True` then the _body_ will be run again.  If the statement no results in `False` (such as when the value of `counter` becomes 11), then Python skips the indented statements and continues executing the program, in this case the final `print()` statement."
   ]
  },
  {
   "cell_type": "markdown",
   "metadata": {},
   "source": [
    "## Reminder about boolean math\n",
    "Boolean math is incredibly important to manage the flow of most computer programs.  So as a quick reminder, Boolean values can only be 1 or 0, that is `True` or `False`.  `and` means that both values must be `True` for the statement to be `True`, while the `or` statement says that only one of the values must be `True` in order for the condition to evaluate to `True`.  For instance,\n"
   ]
  },
  {
   "cell_type": "code",
   "execution_count": 11,
   "metadata": {
    "tags": []
   },
   "outputs": [
    {
     "output_type": "stream",
     "name": "stdout",
     "text": "True and True is: True \nTrue and False is: False\nBut True or False is: True\nAnd False or False is: False\n"
    }
   ],
   "source": [
    "print(f'True and True is: {True and True} ')\n",
    "\n",
    "print(f'True and False is: {True and False}')\n",
    "\n",
    "\n",
    "print(f'But True or False is: {False or True}')\n",
    "\n",
    "print(f'And False or False is: {False or False}')\n",
    "\n",
    "\n"
   ]
  },
  {
   "cell_type": "markdown",
   "metadata": {},
   "source": [
    "We can use combinations of expressions that evaluate to booleans and the boolean values themselves in different combinations, all of the following statements yield _True_"
   ]
  },
  {
   "cell_type": "code",
   "execution_count": 10,
   "metadata": {},
   "outputs": [
    {
     "output_type": "execute_result",
     "data": {
      "text/plain": "True"
     },
     "metadata": {},
     "execution_count": 10
    },
    {
     "output_type": "execute_result",
     "data": {
      "text/plain": "True"
     },
     "metadata": {},
     "execution_count": 10
    }
   ],
   "source": [
    "(4 < 5) and True\n",
    "\n",
    "(4 < 5) and (6 < 9)\n",
    "\n",
    "(1 == 2) or True"
   ]
  },
  {
   "cell_type": "markdown",
   "metadata": {},
   "source": [
    "Python also gives us a unary operator _not_, this simply means that the operation only works on a single value not two like _and_ and _or_.  The _not_ operator simply evaluates the opposite of the boolean value."
   ]
  },
  {
   "cell_type": "code",
   "execution_count": 7,
   "metadata": {},
   "outputs": [
    {
     "output_type": "execute_result",
     "data": {
      "text/plain": "False"
     },
     "metadata": {},
     "execution_count": 7
    },
    {
     "output_type": "execute_result",
     "data": {
      "text/plain": "True"
     },
     "metadata": {},
     "execution_count": 7
    }
   ],
   "source": [
    "# This evaluates to False\n",
    "not True \n",
    "\n",
    "# What do you think this evaluates to?\n",
    "not not True\n"
   ]
  },
  {
   "cell_type": "markdown",
   "metadata": {},
   "source": [
    "## Blocks of Code\n",
    "One more item we need to address before we get too far, code blocks.  While code is mostly meant to run from the top to the bottom on the page, we can put groups of statements together into code blocks.  You can tell when you are looking at a code block because of indentions.  Three rules apply to code blocks\n",
    "\n",
    "1.  Blocks begin when indention increases\n",
    "2.  Blocks can contain other blocks\n",
    "3.  Blocks end when the indention decreases to zero or a containing block's indention\n",
    "\n",
    "You've seen an example of this already, but let's look at one more and be explicit.\n",
    "\n",
    "```\n",
    "name = 'Daniel'\n",
    "password = 'baby tigers are cute'\n",
    "\n",
    "if name == 'Daniel':\n",
    "    print('Hello Daniel')\n",
    "    if password == 'baby tigers are cute':\n",
    "        print('Access granted')\n",
    "    else:\n",
    "        print('Access denied')\n",
    "\n",
    "print('Next Command')\n",
    "```\n",
    "Here we have a code block that starts with `print('Hello Daniel')` (rule 1) and contains all the lines up to `print('next command')` (rule 3).  There are two other code blocks `print('Access granted')` and `print('Access denied')` (rule 2)."
   ]
  },
  {
   "cell_type": "markdown",
   "metadata": {},
   "source": [
    "# Flow Control\n",
    "When writing any kind of interesting program, programs should be able to react to conditions.  For instance, if the program is run in the morning it should have a different reaction than the afternoon.  Every programming language has some kind of support for decision making.  In this section we'll delve into the different kinds of ways to control the order that statements are executed.\n",
    "\n",
    "## if Statements\n",
    "The most well-worn statement in all of programming is the `if` statement.  This expressions says, _if the following condition is true, then execute the next block of code_.  In the next example, we'll ask the user to pick a number and respond with a statement telling the user if the number is less than 0, equal to zero, equal to 1 or greater than 1."
   ]
  },
  {
   "cell_type": "code",
   "execution_count": 2,
   "metadata": {
    "tags": []
   },
   "outputs": [
    {
     "output_type": "stream",
     "name": "stdout",
     "text": "The number you entered is a negative number\n"
    }
   ],
   "source": [
    "x = int(input(\"Please enter integer: \"))\n",
    "result = '' # Create a new blank variable\n",
    "\n",
    "if x < 0:\n",
    "    x = 0\n",
    "    result = 'a negative number'\n",
    "elif x == 0:\n",
    "    result = 'zero'\n",
    "elif x == 1: \n",
    "    result = 'one'\n",
    "else:\n",
    "    result = 'greater than one'\n",
    "\n",
    "print(f'The number you entered is {result}')"
   ]
  },
  {
   "cell_type": "markdown",
   "metadata": {},
   "source": [
    "`if` statements are incredibly valuable and are seen nearly everywhere in all different kinds of applications.  Every language uses `if` statements, it is just the syntax that changes.  For instance, you have likely seen in Excel something like \n",
    "```vba\n",
    "=IF(A1 < B1, \"Yes\", \"No\")\n",
    "```\n",
    "In this simple example, we are testing if the value in cell A1 is less than the value in B1 and if so, place _Yes_ in the current cell, otherwise fill the cell with _No_.\n",
    "\n",
    "In the example above you will notice the `elif` statement as well.  This is short for _else-if_.  So in the case above the way this reads in English is\n",
    "> If the value of x is less than 0, print 'Negative numbers set to zero'\n",
    "<br/>Otherwise, if the value of x is equal to 0, print 'Zero'\n",
    "<br/>Otherwise, if the value of x is 1 then print 'One'\n",
    "<br/>Otherwise just print the word 'More'"
   ]
  },
  {
   "cell_type": "markdown",
   "metadata": {},
   "source": [
    "## for Statements\n",
    "The `for` statement in Python is another incredibly valuable and prevalent statement.  This statement will iterate over a some sequence of items (e.g. a list, letters in a string) with each pass assigning the next item to a common variable.  Let's take for instance\n",
    "```python\n",
    "words = ['cat','house','window']\n",
    "for w in words:\n",
    "    print(f'{w}:{len(w)}')\n",
    "```\n",
    "In this simple example, the variable `w` is assigned the value `cat` for the duration of the code block following the for statement, then when the block has completed, `w` is assigned the value `house` and finally `window`.  The next cell shows this in action.\n"
   ]
  },
  {
   "cell_type": "code",
   "execution_count": null,
   "metadata": {},
   "outputs": [],
   "source": [
    "words = ['cat','house','window']\n",
    "for w in words:\n",
    "    print(f'{w}:{len(w)}')"
   ]
  },
  {
   "cell_type": "code",
   "execution_count": null,
   "metadata": {
    "tags": []
   },
   "outputs": [],
   "source": [
    "# Here's another fun example\n",
    "# In order to type an emoji anywhere in Windows, just press ⊞ Win + .\n",
    "all_the_fruits = '🍇🍈🍉🍊🍌🍍🍑🍒🍓🍋🍐🍎🍏🥭'  # Notice this is just a string\n",
    "\n",
    "# This is a list of \"characters\"\n",
    "fruits_i_like = ['🍇','🍊','🍌','🍍','🍒','🍓']\n",
    "\n",
    "# This statement says:\n",
    "# One at a time, assign the characters in the string 'fruits_i_like'\n",
    "#    to the variable named fruit\n",
    "for fruit in all_the_fruits:\n",
    "    print(f'{fruit}')\n",
    "    if f in fruits_i_like:\n",
    "        print(f'I like this one {f}!')"
   ]
  },
  {
   "cell_type": "markdown",
   "metadata": {},
   "source": [
    "Using just these two simple satements can allow us to make some pretty interesting use cases.\n"
   ]
  },
  {
   "cell_type": "markdown",
   "metadata": {},
   "source": [
    "## Your turn - Alphabet Soup\n",
    "For this challenge, using what you have learned about `for` loops and `if` statements to capitalize all the vowels (a,e,i,o,u) in the string provided and print the results.  To help you out, the letters of the alphabet have been provided.  The next cell provides an outline of the steps in English.  Working through the logic in English first can make solving problems a bit easier.  Try working through the steps one by one and translating each line into the Python code that executes the action.  Bonus, leaving the comments in place essentially creates automated documentation for your code!\n",
    "\n",
    "**HINT**: Remember strings are just a sequence of letters which can be iterated and also concatenated simply with `+`."
   ]
  },
  {
   "cell_type": "code",
   "execution_count": null,
   "metadata": {},
   "outputs": [],
   "source": [
    "# This is the word for which you should be replacing the vowels\n",
    "alphabet = 'abcdefghijklmnopqrstuvwxyz'\n",
    "\n",
    "# create a variable to hold the new set of letters\n",
    "# for each letter in the word provided\n",
    "    #  if the letter is an `a` then add a captial `A` to the new set of letters\n",
    "    #  otherwise if the letter is an `e` then add a capital `E` to the new set of letters\n",
    "    #  otherwise if the letter is an `i` then add a capital `I` to the new set of letters\n",
    "    #  otherwise if the letter is an `o` then add a capital `O` to the new set of letters\n",
    "    #  otherwise if the letter is an `u` then add a capital `U` to the new set of letters\n",
    "    #  otherwise add the current letter to the new set of letters\n",
    "# print the new string"
   ]
  },
  {
   "cell_type": "markdown",
   "metadata": {},
   "source": [
    "## while Statements\n",
    "You have already seen an example of the `while` statement a bit earlier, but it is helpful to address again briefly.  The `while` statement is useful when the condition that is being tested happens in the code block of the loop.  For instance, `while` loops are often used when reading lines from a file.  \n",
    "```python\n",
    "line = ''\n",
    "while not line is not None:\n",
    "    print(line)\n",
    "    line = read_line_from_file(f)\n",
    "```\n",
    "In this case, we bootstrap the value of `line` to be an empty string, then we tell Python to continue to execute the code block until the iteration when the value of `line` has no more value.  If we were to do this with a `for` loop, we would need to know ahead of time how many lines were in the file or have a specific number of lines in mind.\n",
    "\n",
    "One more common use of `while` is to avoid getting bad data from user inputs.  So for instance, the next cell shows an example of asking the user to specify a value between 1-10.  So long as the user doesn't provide a valid value, the prompt is repeated.\n",
    "\n",
    "**Question** What would happen if we bootstrapped the value of `user_input` to say 4?"
   ]
  },
  {
   "cell_type": "code",
   "execution_count": null,
   "metadata": {},
   "outputs": [],
   "source": [
    "user_input = -1 # bootstrapping\n",
    "while (user_input < 0 or user_input > 10):\n",
    "    user_input = int(input('Please enter a value between 0 and 10'))\n",
    "print('Thank you!  Your response has been recorded.')"
   ]
  },
  {
   "cell_type": "markdown",
   "metadata": {},
   "source": [
    "## Two last items\n",
    "### range\n",
    "In order to execute a for loop, it is sometimes helpful to have a sequence of numbers to iterate over.  And while you could type out a list with each number it in, that gets cumbersome and error prone.  This is where the `range` function comes in.  `range` will generate an arithmetic progression given the number of items you specify for instance.\n",
    "```python\n",
    "for i in range(5):\n",
    "    print(i)\n",
    "0\n",
    "1\n",
    "2\n",
    "3\n",
    "4\n",
    "```\n",
    "In this case, we asked for 5 numbers, so Python started at 0 and created us 5 numbers (0-4).  You can also specify a different starting number and the increment (or decrement!) called step.  Here's a few examples.  (Note: `range` is a special datatype which doesn't have an expected string representation, so we have to make it into a list for viewing, this is not necessary when using it directly)"
   ]
  },
  {
   "cell_type": "code",
   "execution_count": null,
   "metadata": {},
   "outputs": [],
   "source": [
    "list(range(5,10)) # Values starting with 5 up to (not including 10)\n",
    "list(range(0,10,3)) # Every 3rd number starting at 0 up until (not including 10)\n",
    "list(range(10,0,-1)) # Starting at 10, count *down* to 0 (not including 0)\n",
    "\n",
    "for i in range(10,0,-1):\n",
    "    print(i)"
   ]
  },
  {
   "cell_type": "markdown",
   "metadata": {},
   "source": [
    "### pass\n",
    "There are rare occassions when our code requires us to have a block of statements even though we don't want to do anything with them.  This is common when we are starting to write our code and we want a placeholder or we aren't sure what to do just yet, but we want to be syntactically correct.  This is where we can use the keyword `pass` similar to comments, this is skipped over by the computer, but makes sure that our code works correctly.\n",
    "```python\n",
    "if x is True:\n",
    "    pass\n",
    "else:\n",
    "    do_something_useful\n",
    "```\n",
    "This is a poor paradigm to actually use, just know that it is helpful when you are building up your program and need a short-term placeholder."
   ]
  },
  {
   "cell_type": "markdown",
   "metadata": {},
   "source": [
    "## Conclusion\n",
    "Logical decision making and looping are essential building blocks in nearly every single computer application.  Everything from ensuring that data is entered correctly, to making business decisions.  Even video games are based on loops.  The main function of a video game loop is usually something like\n",
    "```python\n",
    "while(application_is_running):\n",
    "    if move_right:\n",
    "        move_spaceship_right()\n",
    "    if move_left:\n",
    "        move_spaceship_left()\n",
    "    if button_pressed:\n",
    "        fire_missles()\n",
    "    if missle_hit_invader:\n",
    "        score_points()\n",
    "        remove_invader()\n",
    "    update_screen()\n",
    "```    \n",
    "\n",
    "In the next [section](3\\-Fuctions.ipynb), we'll focus on how to break our code into steps that both make it more readable and reusable by creating _functions_\n",
    "\n",
    "\n",
    "[prev (Introduction)](1-Introduction.ipynb)   |   [next (Functions)](3-Functions.ipynb)    |   [index](toc.ipynb)\n"
   ]
  }
 ],
 "metadata": {
  "kernelspec": {
   "display_name": "Python 3.7.6 64-bit ('base': conda)",
   "language": "python",
   "name": "python_defaultSpec_1597086634054"
  },
  "language_info": {
   "codemirror_mode": {
    "name": "ipython",
    "version": 3
   },
   "file_extension": ".py",
   "mimetype": "text/x-python",
   "name": "python",
   "nbconvert_exporter": "python",
   "pygments_lexer": "ipython3",
   "version": "3.7.6-final"
  }
 },
 "nbformat": 4,
 "nbformat_minor": 4
}