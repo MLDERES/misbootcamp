{
 "cells": [
  {
   "cell_type": "markdown",
   "metadata": {},
   "source": [
    "# Data Analysis with Python\n",
    "\n",
    "Among the many reasons that Python has become so popular is because of the ease of use with the language and due to the large number of additional libraries that are available and shared among the community.  In this module, we'll start by taking a look at how to use some of these libraries and then show how a few of the most popular among them can be used to work with datasets.  After walking through this notebook, you'll want to check out [the example](titanic_example.ipynb) to see an entire anaylsis in action.\n",
    "\n",
    "## Using others work\n",
    "\n",
    "Software advances happen at a blazing rate because all software is built on top of (and with) components that are already in existence.  While there are some analogies, nothing quite comes close to the dependence that new software has on existing work.  Consider for instance building a house.  Not so long ago, if you wanted to build a house, you would open the plans order the materials (e.g. fasteners, lumber, concrete, shingles, etc).  While you are using existing components (materials) once you have built the house there is nothing that helps you build the next house (except experience).  With software, however, nearly every project has something that can be reused or improved without having to go through the construction labor.  In the 1970s, Bill Gates and Paul Allen figured out how to create software that would talk to IBM hardware (BASIC) this meant that anyone using their software didn't have to spend time to figure out how to display output to a screen or get input from a keyboard, later graphic user interfaces started handling non-keyboard input, and programming languages became more and more human readable. Today we have Machine Learning models that start from previously learned, unrelated models.\n",
    "\n",
    "So how do you use other people's work?  There are a number of different ways.  The most fundamental form is to search on-line at a forum like [StackOverflow](https://www.StackOverflow.com) to see if someone has encountered the issue before then cut/paste their work into yours.  Or copy/paste from your old projects.  But this doesn't scale well, can you imagine what it would be like if we all had to cut/paste together Windows everytime we started a new project!  A more useful approach is to share/use work in the form of a library, where the code is kept on-line and made available for others.  Python's public repository is called Python Package Index [PyPi](https://pypi.org) for short.  In this library there are more than 240,000 different packages that can become building blocks for your code.  Everything from determining if an input is an even number [iseven](https://pypi.org/project/isEven/), to creating web pages [flask](https://pypi.org/project/Flask/), to code that helps in facial recognition [face-recognition](https://pypi.org/project/face-recognition/).\n",
    "\n",
    "In Python, packages are used by first \"installing\" them.  That is, the source code is downloaded and put into a folder on your computer that Python knows how to access and read.  Fortunately, Python has made this super simple for us too, by using a tool called 'pip'.  So to install a package, open a terminal and type\n",
    "```\n",
    "pip install <packageName>\n",
    "```\n",
    "\n",
    "Then in your code you need to make reference to the particular library you want to use.  Following is an example that I wrote so that you can see how this is done.  The first cell below will install the package to your system so that it is accessible in the notebook and the second cell will make use of it.\n",
    "\n"
   ]
  },
  {
   "cell_type": "code",
   "execution_count": 10,
   "metadata": {
    "tags": []
   },
   "outputs": [
    {
     "output_type": "stream",
     "name": "stdout",
     "text": "Collecting mlderes.dstoolkit\n  Downloading mlderes.dstoolkit-0.1.3.tar.gz (4.0 kB)\nBuilding wheels for collected packages: mlderes.dstoolkit\n  Building wheel for mlderes.dstoolkit (setup.py) ... \u001b[?25ldone\n\u001b[?25h  Created wheel for mlderes.dstoolkit: filename=mlderes.dstoolkit-0.1.3-py3-none-any.whl size=4650 sha256=74e7387402e261250e2840b8a020e374b103ea55e04b4c353333d41d1f9596e9\n  Stored in directory: /root/.cache/pip/wheels/48/08/04/53fe9ad35a1d283f0d5e0ea5937cbc56170bc3674fda190758\nSuccessfully built mlderes.dstoolkit\nInstalling collected packages: mlderes.dstoolkit\n  Attempting uninstall: mlderes.dstoolkit\n    Found existing installation: mlderes.dstoolkit 0.1.2\n    Uninstalling mlderes.dstoolkit-0.1.2:\n      Successfully uninstalled mlderes.dstoolkit-0.1.2\nSuccessfully installed mlderes.dstoolkit-0.1.3\n"
    }
   ],
   "source": [
    "!pip install -U mlderes.dstoolkit"
   ]
  },
  {
   "cell_type": "code",
   "execution_count": 12,
   "metadata": {},
   "outputs": [
    {
     "output_type": "execute_result",
     "data": {
      "text/plain": "'Hello, Michael. I am coming to you from the toolkit'"
     },
     "metadata": {},
     "execution_count": 12
    }
   ],
   "source": [
    "# Here we import the toolkit and give it an alias so we don't have type the entire name\n",
    "import mlderes.dstoolkit.samples as samples\n",
    "\n",
    "# Now we want to get at the function I created for you called `hello`\n",
    "samples.hello('Michael')\n"
   ]
  },
  {
   "cell_type": "code",
   "execution_count": null,
   "metadata": {},
   "outputs": [],
   "source": []
  },
  {
   "cell_type": "markdown",
   "metadata": {},
   "source": [
    "## And so on with the show\n",
    "\n",
    "Well now that we know how to use other people's code, we'll start to use one of the most prolific libraries in data science called `pandas` (it stands for Python Data Analysis Library - makes sense right?).  Pandas allows us to work with data in a very comfortable way, especially if you like Excel or SQL.  DataFrames can be created from "
   ]
  }
 ],
 "metadata": {
  "language_info": {
   "codemirror_mode": {
    "name": "ipython",
    "version": 3
   },
   "file_extension": ".py",
   "mimetype": "text/x-python",
   "name": "python",
   "nbconvert_exporter": "python",
   "pygments_lexer": "ipython3",
   "version": 3
  },
  "orig_nbformat": 2,
  "kernelspec": {
   "name": "python_defaultSpec_1594239222955",
   "display_name": "Python 3.7.6 64-bit ('base': conda)"
  }
 },
 "nbformat": 4,
 "nbformat_minor": 2
}