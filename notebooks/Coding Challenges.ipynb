{
 "cells": [
  {
   "cell_type": "markdown",
   "metadata": {},
   "source": [
    "# Coding Challenges\n",
    "Now it's time to put all you have learned together to try some unique coding puzzles.  The coding challenges presented here range from very easy to challenging.  For each one there are few hints that you can use if you get stuck.  Each challenge has a space for you to write the answer and a cell following which can be executed to check your answer against a few test cases."
   ]
  },
  {
   "cell_type": "code",
   "execution_count": null,
   "metadata": {},
   "outputs": [],
   "source": [
    "%load_ext autoreload\n",
    "%autoreload 2\n",
    "import sys\n",
    "MODULE_FULL_PATH = 'bootcamp-coding'\n",
    "\n",
    "sys.path.insert(1, MODULE_FULL_PATH)\n",
    "\n",
    "from src.challenge_tests import assert_equal"
   ]
  },
  {
   "cell_type": "markdown",
   "metadata": {},
   "source": [
    "[toc]"
   ]
  },
  {
   "cell_type": "markdown",
   "metadata": {},
   "source": [
    "## Challenge 1 - What day of the year is it?\n",
    "In this challenge you are to write a function called _day_of_year_ which accepts three integer parameters _day_, _month_, _year_ the result of the function should be an integer representing the number of days that have elapsed since January 1st of the year provided until the date.  For instance, if the function were asked for the day of the year on Feb 2, 2015 the answer returned should be 33 (31 days in Jan + 2 days in February).\n",
    "\n",
    "Remember to take into account leap year! There are three criteria for leap year:\n",
    "<li>The year can be evenly divided by 4</li>\n",
    "<li>If the year can be evenly divided by 100 it is NOT a leap year, unless:</li>\n",
    "<li>The year is also divisble by 400, in which case it is a leap year</li>"
   ]
  },
  {
   "cell_type": "code",
   "execution_count": null,
   "metadata": {},
   "outputs": [],
   "source": [
    "def day_of_year(day, month, year):\n",
    "    ''' A function to determine what day of the year it is.\n",
    "    \n",
    "    Day of the the year is a number between 1 and 366 where Jan 1 is day 1 and Dec 31 is day 366 (in 2020)\n",
    "    \n",
    "    Parameters\n",
    "    ----------\n",
    "    day : int\n",
    "        The day of the month\n",
    "    month : int\n",
    "        The month of the year\n",
    "    year : int\n",
    "        The year which the day is being calculated\n",
    "    \n",
    "    Returns\n",
    "    -------\n",
    "    int\n",
    "        The day of the year\n",
    "    '''\n",
    "    # Replace pass with your code\n",
    "    pass\n"
   ]
  },
  {
   "cell_type": "code",
   "execution_count": null,
   "metadata": {},
   "outputs": [],
   "source": [
    "# Run this cell to test your work\n",
    "\n",
    "assert_equal(day_of_year(1,1,2000),1,'Jan 1, 2000')\n",
    "assert_equal(day_of_year(15,2,2015),46,'Feb 2, 2015')\n",
    "assert_equal(day_of_year(30,6,2020),182,'June 30, 2020', 'Did you check for leap year?')"
   ]
  },
  {
   "cell_type": "markdown",
   "metadata": {},
   "source": [
    "## Challenge 2 - Create me a monogram\n",
    "Traditional monograms are represented by three initials (first name, last name and middle initial).  The challenge here is to build a monogram from a name that is supplied.  The monogram should use lowercase letters for the first initial and middle initial, while the last name initial is in caps.  \n",
    "\n",
    "For example,\n",
    "\n",
    "<li>Dwight K. Shrute => d.K.s</li>\n",
    "<li>Eye See Deadpeople => e.S.d</li>\n",
    "<li>Mers Sadees Benz => m.B.s</li>\n",
    "\n",
    "**Hint**\n",
    "**Challenge Plus**"
   ]
  },
  {
   "cell_type": "code",
   "execution_count": null,
   "metadata": {},
   "outputs": [],
   "source": [
    "def monogram(full_name):\n",
    "    '''\n",
    "    Creates a traditional monogram from a supplied full name\n",
    "    \n",
    "    Parameters\n",
    "    ----------\n",
    "    full_name : str\n",
    "        The full name (first middle last) of the person for which to build the monogram\n",
    "    '''\n",
    "    # Replace pass with your code\n",
    "    pass"
   ]
  },
  {
   "cell_type": "code",
   "execution_count": null,
   "metadata": {},
   "outputs": [],
   "source": [
    "# Run this cell to test your work\n",
    "\n",
    "assert_equal(monogram('Dwight Kevin Shrute'),'d.S.k')\n",
    "assert_equal(monogram('Eye see deadpeople'),'e.D.s', hint='Did you check the case?')\n",
    "assert_equal(monogram('mers sadees benz II'),'m.B.s',hint='Did the extra suffix throw you off?')"
   ]
  },
  {
   "cell_type": "markdown",
   "metadata": {},
   "source": [
    "# Challenge 3 - Are you my mother?\n",
    "In this coding challenge you are to determine the matriarchical family tree given a list of mother/daughter pairs.  \n",
    "\n",
    "For this challenge you will need to understand the concept of tuples.  A tuple is a sequence of elements much like a list, but unlike a list, tuples are immutable (that is, they cannot be changed).  Tuples are represented by the parathenses surrounding a comma separated list of items such as (5,6) or ('mother', 'daughter').  In the first case, the tuple is made up of two integers and the second case the tuple is two strings.  Accessing items in a tuple is similar to accessing items in other sequences in Python - by using square brackets.\n",
    "```python\n",
    "> pair = ('mother','daughter')\n",
    "> pair[0]\n",
    "'mother'\n",
    "> pair[1]\n",
    "'daughter'\n",
    "```\n",
    "\n",
    "Now on with the challenge.  You will be provided a list of tuples, the first name will always be the mother of the second name.  Given this list of names, you are to develop the family tree and provide the relationship between the target pair.\n",
    "\n",
    "For instance, if the `source_list` is \n",
    "```[('Enid','Susan'),('Enid','Diane'),('Susan','Deborah')] ```\n",
    "then the family tree represented is \n",
    "```\n",
    "        Enid\n",
    "          |\n",
    "     |--------|\n",
    "   Susan     Diane\n",
    "     |\n",
    "   Deborah\n",
    "```\n",
    "and then if the `target_list` is `[('Enid','Deborah')]` then the correct response is `Granddaughter`, as Deborah is the _granddaughter_ of Enid.\n",
    "\n",
    "There will only every be only 3 generations (maximum) with varying number of children for each parent, but each child will only have a single parent (we are only dealing with the females in the tree).  Your response should be one of \n",
    "```python\n",
    "Mother\n",
    "Daughter\n",
    "Grandmother\n",
    "Granddaughter\n",
    "Sister\n",
    "Cousin\n",
    "Aunt\n",
    "Niece\n",
    "```\n",
    ">**Remember**\n",
    "><li>Sisters have the same mother.</li>\n",
    "><li>Cousins have the same grandmother.</li>\n",
    "><li>A niece's grandmother is the mother of her Aunt.</li>\n",
    "><li>An Aunt's mother is the grandmother of her niece.</li>\n",
    "\n",
    "**Hint**: You may consider using a [dictionary](https://www.w3schools.com/python/python_dictionaries.asp#:~:text=%20Python%20Dictionaries%20%201%20Dictionary.%20A%20dictionary,Items.%20%208%20Removing%20Items.%20%20More%20) data type to solve this one.\n"
   ]
  },
  {
   "cell_type": "code",
   "execution_count": 36,
   "metadata": {},
   "outputs": [],
   "source": [
    "def relations(family_tree, relationship):\n",
    "    ''' Determine the relationship between two people in a given family\n",
    "    \n",
    "    Parameters\n",
    "    ----------\n",
    "    family_tree : list of tuple of str\n",
    "        The family tree is defined by tuples of mother/daughter pairs \n",
    "        where the first item in the tuple is the mother of the second name in the tuple.\n",
    "    relationship: tuple of str\n",
    "        The relationship to be determined of the second person in the tuple to the first person in the tuple\n",
    "        \n",
    "    Returns\n",
    "    -------\n",
    "    str : {'Grandmother','Granddaughter','Mother','Daughter','Sister','Cousin','Aunt','Niece'}\n",
    "        The relationship of the second person in the `relationship` tuple to the first person in the tuple\n",
    "        \n",
    "    '''\n",
    "    # Replace pass with your code\n",
    "    parents = {}\n",
    "    for parent, child in family_tree:\n",
    "        # Build a list of children by specifying the parent\n",
    "        parents[child]  = parent\n",
    "        \n",
    "        # Now get the targets\n",
    "        gen_1 = relationship[0]\n",
    "        gen_2 = relationship[1]\n",
    "        \n",
    "        gen_1_parent = parents.get(gen_1)\n",
    "        gen_1_parent_parent = parents.get(gen_1_parent)\n",
    "        gen_2_parent = parents.get(gen_2)\n",
    "        gen_2_parent_parent = parents.get(gen_2_parent)\n",
    "        \n",
    "        if gen_2 == gen_1_parent : return 'Mother'\n",
    "        if gen_2 == gen_1_parent_parent : return 'Grandmother'\n",
    "        if gen_1 == gen_2_parent : return 'Daughter'\n",
    "        if gen_1 == gen_2_parent_parent : return 'Granddaughter'\n",
    "        if gen_1_parent == gen_2_parent : return 'Sister'\n",
    "        if gen_1_parent_parent == gen_2_parent_parent : return 'Cousin'\n",
    "        if gen_1_parent_parent == gen_2_parent : return 'Aunt'\n",
    "        if gen_1_parent == gen_2_parent_parent : return 'Niece'"
   ]
  },
  {
   "cell_type": "code",
   "execution_count": 37,
   "metadata": {},
   "outputs": [
    {
     "name": "stdout",
     "output_type": "stream",
     "text": [
      "\u001b[32mTest : pass\tResult: Daughter. Expected Daughter.\u001b[0m\n",
      "\u001b[32mTest : pass\tResult: Sister. Expected Sister.\u001b[0m\n"
     ]
    }
   ],
   "source": [
    "# Run this cell to test your work\n",
    "family_a = [(\"Enid\", \"Susan\"), (\"Susan\", \"Deborah\")]\n",
    "family_b = [('Enid', 'Susan'), ('Susan', 'Deborah'), ('Enid', 'Dianne'), ('Dianne', 'Judy'), ('Dianne', 'Fern')]\n",
    "\n",
    "assert_equal(relations(family_a,('Enid','Susan')),'Daughter')\n",
    "assert_equal(relations(family_b,('Enid','Judy')),'Sister')"
   ]
  },
  {
   "cell_type": "markdown",
   "metadata": {},
   "source": [
    "# Challenge 4 - Money in the bank\n",
    "\n",
    "For this challenge you are to dispense bills from an ATM in the least number of bills possible.\n",
    "\n",
    "In this challenge you are writing the code for an ATM which can dispense up to 1500 dollars per transaction with the least number of bills possible.  The ATM has bills available in these nominal amounts 10, 20, 50, 100 and plenty of them so no need to worry about running out!  You function should return the number of bills required, if the amount requested cannot be met, then your function should signal an error by returning a -1."
   ]
  },
  {
   "cell_type": "code",
   "execution_count": 52,
   "metadata": {},
   "outputs": [],
   "source": [
    "def dispense_cash(amount):\n",
    "    ''' Determine the minimum number of ATM bills to meet the requested amount to dispense\n",
    "    \n",
    "    Parameters\n",
    "    ----------\n",
    "    amount : int\n",
    "        The amount of money requested from the ATM\n",
    "        \n",
    "    Returns\n",
    "    -------\n",
    "    int\n",
    "        The number of bills needed, -1 if it can't be done\n",
    "    '''\n",
    "    total_bills = 0\n",
    "    if amount % 10 != 0:\n",
    "        return -1 # Can't be done, because it has to be a multiple of 10\n",
    "    \n",
    "    b_500 = (amount // 500) # The // operator does integer only division - such that 4 // 3 = 1\n",
    "    b_100 = (amount % 500) // 100\n",
    "    b_50 = (amount - (b_500*500) - (b_100 *100)) // 50\n",
    "    b_20 = (amount - (b_500*500) - (b_100 *100) - (b_50 * 50)) // 20\n",
    "    b_10 = (amount - (b_500*500) - (b_100 *100) - (b_50 * 50) - (b_20 * 20)) // 10\n",
    "    \n",
    "    total_bills = b_500 + b_100 + b_50 + b_20 + b_10\n",
    "    return total_bills"
   ]
  },
  {
   "cell_type": "code",
   "execution_count": 58,
   "metadata": {},
   "outputs": [
    {
     "name": "stdout",
     "output_type": "stream",
     "text": [
      "\u001b[32mTest : pass\tResult: 4. Expected 4.\u001b[0m\n",
      "\u001b[32mTest : pass\tResult: -1. Expected -1.\u001b[0m\n",
      "\u001b[32mTest : pass\tResult: 6. Expected 6.\u001b[0m\n",
      "\u001b[32mTest : pass\tResult: 5. Expected 5.\u001b[0m\n",
      "\u001b[32mTest : pass\tResult: 3. Expected 3.\u001b[0m\n",
      "\u001b[32mTest : pass\tResult: 20. Expected 20.\u001b[0m\n"
     ]
    }
   ],
   "source": [
    "assert_equal(dispense_cash(1120), 4)\n",
    "assert_equal(dispense_cash(492), -1)\n",
    "assert_equal(dispense_cash(440), 6)\n",
    "assert_equal(dispense_cash(370), 5)\n",
    "assert_equal(dispense_cash(80), 3)\n",
    "assert_equal(dispense_cash(8720), 20)"
   ]
  }
 ],
 "metadata": {
  "kernelspec": {
   "display_name": "Python 3",
   "language": "python",
   "name": "python3"
  },
  "language_info": {
   "codemirror_mode": {
    "name": "ipython",
    "version": 3
   },
   "file_extension": ".py",
   "mimetype": "text/x-python",
   "name": "python",
   "nbconvert_exporter": "python",
   "pygments_lexer": "ipython3",
   "version": "3.7.5"
  }
 },
 "nbformat": 4,
 "nbformat_minor": 4
}
