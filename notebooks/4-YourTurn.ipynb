{
 "cells": [
  {
   "cell_type": "markdown",
   "source": [
    "# Your Turn\n",
    "\n",
    "Now it's your turn to try out some of the techiques identified in the first few notebooks.  For each example, take a look first at the question.  Try to work out the logic in plain language first, then work out the coding logic afterward.  The outcome is described after each of the steps.\n"
   ],
   "metadata": {}
  },
  {
   "cell_type": "markdown",
   "source": [
    "## Hello World\n",
    "\n",
    "One of the first things all programmers learn to do is to write Hello World!  It's a time honored tradition, so let's start there.  In the next cell, set the value of the name variable and run the cell."
   ],
   "metadata": {}
  },
  {
   "cell_type": "code",
   "execution_count": 15,
   "source": [
    "# Set the value of the my_name variable to your name\n",
    "my_name = ...\n",
    "print(f'Hello World!  My name is {my_name}')"
   ],
   "outputs": [
    {
     "output_type": "stream",
     "name": "stdout",
     "text": [
      "Hello World!  My name is Ellipsis\n"
     ]
    }
   ],
   "metadata": {}
  },
  {
   "cell_type": "markdown",
   "source": [
    "### Hello, user\n",
    "Hello world is a great start, but what if we want this to work for everyone without changing our code.  Well we can use a built-in Python function called ```input()``` which will ask the user for some text.  The result of this function is a string.  Run the next cell to see how this works."
   ],
   "metadata": {}
  },
  {
   "cell_type": "code",
   "execution_count": 16,
   "source": [
    "# Ask user for their name, store the value in the user_name variable\n",
    "user_name = input('What is your name?')\n",
    "\n",
    "# Print the value of the user_name variable\n",
    "print(f'You said: {user_name}')"
   ],
   "outputs": [
    {
     "output_type": "stream",
     "name": "stdout",
     "text": [
      "You said: \n"
     ]
    }
   ],
   "metadata": {}
  },
  {
   "cell_type": "markdown",
   "source": [
    "Did you see the computer output the user's name?  Let's incorporate this into our Hello World, example from above.\n",
    "\n",
    "Ask for the user's name.  Instead of Hello World, print a message that says hello to the user.  Make sure that you also introduce yourself.  Assuming the user's name is Mel, and my name is Ned - the output should look like\n",
    "\n",
    "```Hello Mel!  My name is Ned```"
   ],
   "metadata": {}
  },
  {
   "cell_type": "code",
   "execution_count": 17,
   "source": [
    "# Assign the variable to my_name\n",
    "my_name = ...\n",
    "\n",
    "# Ask for the user's name\n",
    "\n",
    "# Print the greeting including the user's name and your name\n",
    "\n"
   ],
   "outputs": [],
   "metadata": {}
  },
  {
   "cell_type": "markdown",
   "source": [
    "### Dealing with time\n",
    "\n",
    "Our greeting is plesant, but we can do better.  We should have a greeting that takes into account the time of day.  The first few lines determine the hour of the day (where 0 is midnight and 23 is 11pm).  Using an ```if/else``` construct, greet the user appropriately for the time of day (morning, afternoon, evening).\n"
   ],
   "metadata": {}
  },
  {
   "cell_type": "code",
   "execution_count": 18,
   "source": [
    "# Getting the current time\n",
    "from datetime import datetime as dt\n",
    "import pytz\n",
    "current_hour = dt.now(pytz.timezone(\"US/Central\")).hour\n",
    "print(f'The current hour is: {current_hour}')\n",
    "\n",
    "# Assign the variable to my_name\n",
    "my_name = ...\n",
    "\n",
    "# Ask for the user's name\n",
    "user_name = input('What is your name?')\n",
    "\n",
    "# Set the greeting to default to nothing\n",
    "greeting = ''\n",
    "# If the the current hour is less than 12, change the greeting to 'Morning'\n",
    "# Otherwise, if the current hour is between 12 and 17 (5pm) set the greeting to 'Afternoon'\n",
    "# Otherwise, set the greeting to 'Evening'\n",
    "\n",
    "print(f'Good {greeting}, {user_name}!  My name is {my_name}')"
   ],
   "outputs": [
    {
     "output_type": "stream",
     "name": "stdout",
     "text": [
      "The current hour is: 14\n",
      "Good , !  My name is Ellipsis\n"
     ]
    }
   ],
   "metadata": {}
  },
  {
   "cell_type": "markdown",
   "source": [
    "### Creating a function\n",
    "\n",
    "That was fun, right?  But every time we want to use this code, we have to type it over and over again.  Or if we want to share it with someone else we have to tell them to change ```my_name``` to their own name.  Let's take this one step further and create a reusable function.\n",
    "\n",
    "As you will remember, a function is a set of instructions that are combined together and can be referred to with a single name.  We assign variables to the function when we \"call\" the function.  So for instance, if we have a function called ```sum``` it takes two variables.  The value of these variables are defined outside the function, and when we call the function the values of ```x``` and ```y``` are replaced with the values we provide.  This allows us to something complex with these values and they can change each time."
   ],
   "metadata": {}
  },
  {
   "cell_type": "code",
   "execution_count": 19,
   "source": [
    "# Create a function called 'add' which takes two variables x and y\n",
    "def sum(x,y):\n",
    "    print(f'The value of x is {x}')\n",
    "    print(f'The value of y is {y}')\n",
    "    # Assign the variable result to be the sum of x and y\n",
    "    result = x+y\n",
    "    return result\n",
    "\n",
    "print(f'When we call the sum function the result is {sum(5,4)}')\n",
    "\n",
    "first_number = 10\n",
    "second_number = 12\n",
    "\n",
    "# Using two variables to call the sum function and assigning the result to a third variable\n",
    "sum_of_first_second = sum(first_number,second_number)\n",
    "\n",
    "print(f\"Let's use two variables to call the sum function: {sum_of_first_second}\")\n",
    "    "
   ],
   "outputs": [
    {
     "output_type": "stream",
     "name": "stdout",
     "text": [
      "The value of x is 5\n",
      "The value of y is 4\n",
      "When we call the sum function the result is 9\n",
      "The value of x is 10\n",
      "The value of y is 12\n",
      "Let's use two variables to call the sum function: 22\n"
     ]
    }
   ],
   "metadata": {}
  },
  {
   "cell_type": "markdown",
   "source": [
    "You can see from the example above that ```x``` and ```y``` are placeholders that are defined when the function is called.  When we called the ```sum``` functions ```x``` and ```y``` changed each time, the first time because we specified the numbers 4 and 5 the second time we used variables to set the values to be used for  ```x``` and ```y```.\n",
    "\n",
    "How can we use this to improve our greeting?  Let's create a function called ```greeting``` which takes as it's inputs the name of the author and the name of the person we are greeting.  This way, we can decide how we want to get these values (create them as variables, ask for input, read from a file, etc).\n",
    "\n",
    "In the next cell, we have defined the function for you.  You just need to put your code in the body of the function.  Remember, the body of the function is everything that is indented at least one level.  Also, it is handy to know that words between ```'''``` (three single quotes) are comments that span multiple lines.  So these two blocks are both valid comments (that is they are ignored by Python).  By convention (it's not required, just good practice), when we define a function we put a multi-line comment which starts with the purpose of the function and also defines the parameters and any result the function returns.  This helps others wanting to use the function to know what to expect and how to use it.\n",
    "\n",
    "```python\n",
    "# Function purpose\n",
    "#\n",
    "# Parameters:\n",
    "#\n",
    "\n",
    "''' Function Purpose\n",
    "    \n",
    "    Parameters:\n",
    "'''\n",
    "```"
   ],
   "metadata": {}
  },
  {
   "cell_type": "code",
   "execution_count": 20,
   "source": [
    "# Defining the greeting function\n",
    "def greeting(author_name, user_name):\n",
    "    ''' Greet a user \n",
    "\n",
    "        Parameters: \n",
    "            author_name (str) - the name of the program's author\n",
    "            user_name (str) - the name of the user to greet\n",
    "\n",
    "        Returns:\n",
    "            A greeting (str)\n",
    "    '''\n",
    "    # author_name is supplied in the function call, and so is the user name\n",
    "    \n",
    "    # Get the current time\n",
    "    current_hour = dt.now(pytz.timezone(\"US/Central\")).hour\n",
    "\n",
    "    # Set the greeting to default to nothing\n",
    "    greeting = ''\n",
    "    # If the the current hour is less than 12, change the greeting to 'Morning'\n",
    "    # Otherwise, if the current hour is between 12 and 17 (5pm) set the greeting to 'Afternoon'\n",
    "    # Otherwise, set the greeting to 'Evening'\n",
    "\n",
    "    result = f'Good {greeting}, {user_name}!  My name is {my_name}'\n",
    "    return result\n",
    "\n",
    "# Assign the variable to my_name\n",
    "my_name = ...\n",
    "\n",
    "# Ask for the user's name\n",
    "user_name = input('What is your name?')\n",
    "\n",
    "# Call the function assigning the proper variables to the associated parameters\n",
    "computer_greeting = greeting(...,...)\n",
    "\n",
    "# Print the result"
   ],
   "outputs": [],
   "metadata": {}
  },
  {
   "cell_type": "markdown",
   "source": [
    "Now that we have defined the function, we can use it again here.  Let's not ask the user for their name this time, let's just define it for them"
   ],
   "metadata": {}
  },
  {
   "cell_type": "code",
   "execution_count": null,
   "source": [
    "# Call the `greeting` function, but instead of asking for a user_name just assign the variable here.\n",
    "my_name = ...\n",
    "user_name = 'Mercedes'\n",
    "\n",
    "# Call the function again\n",
    "computer_greeting = greeting(...,...)\n",
    "\n",
    "# Print the result\n",
    "print(f'{computer_greeting}')"
   ],
   "outputs": [],
   "metadata": {}
  },
  {
   "cell_type": "markdown",
   "source": [
    "## What day of the year is it?\n",
    "In this challenge you are to write a function called _day_of_year_ which accepts three integer parameters _day_, _month_, _year_ the result of the function should be an integer representing the number of days that have elapsed since January 1st of the year provided until the date.  For instance, if the function were asked for the day of the year on Feb 2, 2015 the answer returned should be 33 (31 days in Jan + 2 days in February).\n",
    "\n",
    "Remember to take into account leap year! There are three criteria for leap year:\n",
    "<li>The year can be evenly divided by 4</li>\n",
    "<li>If the year can be evenly divided by 100 it is NOT a leap year, unless:</li>\n",
    "<li>The year is also divisble by 400, in which case it is a leap year</li>"
   ],
   "metadata": {}
  },
  {
   "cell_type": "code",
   "execution_count": null,
   "source": [
    "def day_of_year(day, month, year):\n",
    "    \"\"\" A function to determine what day of the year it is\n",
    "    Parameters\n",
    "    ----------\n",
    "    day : int\n",
    "        The day of the month\n",
    "    month : int\n",
    "        The month of the year\n",
    "    year : int\n",
    "        The year which the day is being calculated\n",
    "    \"\"\"\n",
    "    \"\"\"\n",
    "    The day of the year is \n",
    "        days that have passed in the current month + days in the prior months\n",
    "\n",
    "    So that April 3, 2015 (non-leap year)\n",
    "        3 (3rd day of month 4) + 31 (days in March) + 28 (days in Feb) + 31 (days in Jan)\n",
    "    \"\"\"\n",
    "    # Start with total_days set the day of the month requested\n",
    "    # for each month prior to the month asked for\n",
    "    #   add the number of days in that month\n",
    "    # if it's leap year and after Feb,  then add 1.\n",
    "    \n",
    "    # **** Your code goes here ****\n",
    "    pass \n",
    "\n"
   ],
   "outputs": [],
   "metadata": {}
  },
  {
   "cell_type": "code",
   "execution_count": null,
   "source": [
    "# These are some samples to test your code\n",
    "# Remember to run the previous cell after you change it before running this cell!\n",
    "\n",
    "result = day_of_year(20,1,2001)\n",
    "print(f'January 20th, 2001 is the 20th day of the year.  Your function said it is: {result}')\n",
    "\n",
    "result = day_of_year(13,9,2010)\n",
    "print(f'September 13th, 2010 is the 266th day of the year.  Your function said it is: {result}')\n",
    "\n",
    "result = day_of_year(17,11,2020)\n",
    "print(f'November 17th, 2020 is the 322nd day of the year.  Your function said it is: {result}')"
   ],
   "outputs": [],
   "metadata": {}
  }
 ],
 "metadata": {
  "orig_nbformat": 4,
  "language_info": {
   "name": "python",
   "version": "3.8.8",
   "mimetype": "text/x-python",
   "codemirror_mode": {
    "name": "ipython",
    "version": 3
   },
   "pygments_lexer": "ipython3",
   "nbconvert_exporter": "python",
   "file_extension": ".py"
  },
  "kernelspec": {
   "name": "python3",
   "display_name": "Python 3.8.8 64-bit ('base': conda)"
  },
  "interpreter": {
   "hash": "98b0a9b7b4eaaa670588a142fd0a9b87eaafe866f1db4228be72b4211d12040f"
  }
 },
 "nbformat": 4,
 "nbformat_minor": 2
}