{
 "cells": [
  {
   "cell_type": "markdown",
   "metadata": {},
   "source": [
    "# Coding Challenges\n",
    "Now it's time to put all you have learned together to try some unique coding puzzles.  The coding challenges presented here range from very easy to challenging.  For each one there are few hints that you can use if you get stuck.  Each challenge has a space for you to write the answer and a cell following which can be executed to check your answer against a few test cases."
   ]
  },
  {
   "cell_type": "code",
   "execution_count": 66,
   "metadata": {},
   "outputs": [
    {
     "name": "stdout",
     "output_type": "stream",
     "text": [
      "The autoreload extension is already loaded. To reload it, use:\n",
      "  %reload_ext autoreload\n"
     ]
    }
   ],
   "source": [
    "%load_ext autoreload\n",
    "%autoreload 2\n",
    "from challenge_tests import assert_equal"
   ]
  },
  {
   "cell_type": "markdown",
   "metadata": {},
   "source": [
    "## Challenge 1 - What day of the year is it?"
   ]
  },
  {
   "cell_type": "code",
   "execution_count": 119,
   "metadata": {},
   "outputs": [],
   "source": [
    "def day_of_year(day, month, year):\n",
    "    ''' A function to determine what day of the year it is\n",
    "    Parameters\n",
    "    ----------\n",
    "    day : int\n",
    "        The day of the month\n",
    "    month : int\n",
    "        The month of the year\n",
    "    year : int\n",
    "        The year which the day is being calculated\n",
    "    '''\n",
    "    days_in_month = [31, 28, 31, 30, 31, 30, 31, 31, 30, 31, 30, 31]\n",
    "    total_days = day\n",
    "    for m in range(month -1):\n",
    "        total_days = total_days+days_in_month[m]\n",
    "    if (month > 2) and is_leap_year(year):\n",
    "        total_days = total_days + 1\n",
    "        \n",
    "    return total_days\n",
    "\n",
    "def is_leap_year(y):\n",
    "    return (y % 4 == 0) and ((y % 100 != 0) or (y % 400 == 0))\n",
    "\n",
    "assert_equal(day_of_year(1,1,2000),1,'Jan 1, 2000')\n",
    "assert_equal(day_of_year(15,2,2015),46,'Feb 2, 2015')\n",
    "assert_equal(day_of_year(30,6,2020),182,'June 30, 2020', 'Did you check for leap year?')"
   ]
  },
  {
   "cell_type": "markdown",
   "metadata": {},
   "source": [
    "## Challenge 2 - Create me a monogram"
   ]
  },
  {
   "cell_type": "code",
   "execution_count": 163,
   "metadata": {},
   "outputs": [
    {
     "name": "stdout",
     "output_type": "stream",
     "text": [
      "\u001b[32mTest : pass\tResult: d.S.k. Expected d.S.k.\u001b[0m\n",
      "\u001b[32mTest : pass\tResult: e.D.s. Expected e.D.s.\u001b[0m\n",
      "\u001b[32mTest : pass\tResult: m.B.s. Expected m.B.s.\u001b[0m\n"
     ]
    }
   ],
   "source": [
    "def monogram(full_name):\n",
    "    '''\n",
    "    Creates a traditional monogram from a supplied full name\n",
    "    '''\n",
    "    first, middle, last = full_name.split(' ',2)\n",
    "    return f'{first[0].lower()}.{last[0].upper()}.{middle[0].lower()}'\n",
    "\n",
    "# Basic tests\n",
    "assert_equal(monogram('Dwight Kevin Shrute'),'d.S.k')\n",
    "assert_equal(monogram('Eye see deadpeople'),'e.D.s', hint='Did you check the case?')\n",
    "assert_equal(monogram('mers sadees benz II'),'m.B.s',hint='Did the extra suffix throw you off?')"
   ]
  },
  {
   "cell_type": "markdown",
   "metadata": {},
   "source": [
    "# Challenge 3 - Are you my mother?"
   ]
  },
  {
   "cell_type": "code",
   "execution_count": 161,
   "metadata": {},
   "outputs": [
    {
     "name": "stdout",
     "output_type": "stream",
     "text": [
      "\u001b[32mTest : pass\tResult: Daughter. Expected Daughter.\u001b[0m\n",
      "\u001b[32mTest : pass\tResult: Sister. Expected Sister.\u001b[0m\n"
     ]
    }
   ],
   "source": [
    "def relations(family_tree, relationship):\n",
    "    ''' Determine the relationship between two people in a given family\n",
    "    \n",
    "    Parameters\n",
    "    ----------\n",
    "    family_tree : list of tuple of str\n",
    "        The family tree is defined by tuples of mother/daughter pairs \n",
    "        where the first item in the tuple is the mother of the second name in the tuple.\n",
    "    relationship: tuple of str\n",
    "        The relationship to be determined of the second person in the tuple to the first person in the tuple\n",
    "        \n",
    "    Returns\n",
    "    -------\n",
    "    str : {'Grandmother','Granddaughter','Mother','Daughter','Sister','Cousin','Aunt','Niece'}\n",
    "        The relationship of the second person in the `relationship` tuple to the first person in the tuple\n",
    "        \n",
    "    '''\n",
    "    # Replace pass with your code\n",
    "    parents = {}\n",
    "    for parent, child in family_tree:\n",
    "        # Build a list of children by specifying the parent\n",
    "        parents[child]  = parent\n",
    "        \n",
    "        # Now get the targets\n",
    "        gen_1 = relationship[0]\n",
    "        gen_2 = relationship[1]\n",
    "        \n",
    "        gen_1_parent = parents.get(gen_1)\n",
    "        gen_1_parent_parent = parents.get(gen_1_parent)\n",
    "        gen_2_parent = parents.get(gen_2)\n",
    "        gen_2_parent_parent = parents.get(gen_2_parent)\n",
    "        \n",
    "        if gen_2 == gen_1_parent : return 'Mother'\n",
    "        if gen_2 == gen_1_parent_parent : return 'Grandmother'\n",
    "        if gen_1 == gen_2_parent : return 'Daughter'\n",
    "        if gen_1 == gen_2_parent_parent : return 'Granddaughter'\n",
    "        if gen_1_parent == gen_2_parent : return 'Sister'\n",
    "        if gen_1_parent_parent == gen_2_parent_parent : return 'Cousin'\n",
    "        if gen_1_parent_parent == gen_2_parent : return 'Aunt'\n",
    "        if gen_1_parent == gen_2_parent_parent : return 'Niece'\n",
    "        \n",
    "# Run this cell to test your work\n",
    "family_a = [(\"Enid\", \"Susan\"), (\"Susan\", \"Deborah\")]\n",
    "family_b = [('Enid', 'Susan'), ('Susan', 'Deborah'), ('Enid', 'Dianne'), ('Dianne', 'Judy'), ('Dianne', 'Fern')]\n",
    "\n",
    "assert_equal(relations(family_a,('Enid','Susan')),'Daughter')\n",
    "assert_equal(relations(family_b,('Enid','Judy')),'Sister')"
   ]
  },
  {
   "cell_type": "markdown",
   "metadata": {},
   "source": [
    "# Challenge 4 - Money in the bank"
   ]
  },
  {
   "cell_type": "code",
   "execution_count": 162,
   "metadata": {},
   "outputs": [
    {
     "name": "stdout",
     "output_type": "stream",
     "text": [
      "\u001b[32mTest : pass\tResult: 4. Expected 4.\u001b[0m\n",
      "\u001b[32mTest : pass\tResult: -1. Expected -1.\u001b[0m\n",
      "\u001b[32mTest : pass\tResult: 6. Expected 6.\u001b[0m\n",
      "\u001b[32mTest : pass\tResult: 5. Expected 5.\u001b[0m\n",
      "\u001b[32mTest : pass\tResult: 3. Expected 3.\u001b[0m\n",
      "\u001b[32mTest : pass\tResult: 20. Expected 20.\u001b[0m\n"
     ]
    }
   ],
   "source": [
    "def dispense_cash(amount):\n",
    "    ''' Determine the minimum number of ATM bills to meet the requested amount to dispense\n",
    "    \n",
    "    Parameters\n",
    "    ----------\n",
    "    amount : int\n",
    "        The amount of money requested from the ATM\n",
    "        \n",
    "    Returns\n",
    "    -------\n",
    "    int\n",
    "        The number of bills needed, -1 if it can't be done\n",
    "    '''\n",
    "    total_bills = 0\n",
    "    if amount % 10 != 0:\n",
    "        return -1 # Can't be done, because it has to be a multiple of 10\n",
    "    \n",
    "    b_500 = (amount // 500) # The // operator does integer only division - such that 4 // 3 = 1\n",
    "    b_100 = (amount % 500) // 100\n",
    "    b_50 = (amount - (b_500*500) - (b_100 *100)) // 50\n",
    "    b_20 = (amount - (b_500*500) - (b_100 *100) - (b_50 * 50)) // 20\n",
    "    b_10 = (amount - (b_500*500) - (b_100 *100) - (b_50 * 50) - (b_20 * 20)) // 10\n",
    "    \n",
    "    total_bills = b_500 + b_100 + b_50 + b_20 + b_10\n",
    "    return total_bills\n",
    "\n",
    "assert_equal(dispense_cash(1120), 4)\n",
    "assert_equal(dispense_cash(492), -1)\n",
    "assert_equal(dispense_cash(440), 6)\n",
    "assert_equal(dispense_cash(370), 5)\n",
    "assert_equal(dispense_cash(80), 3)\n",
    "assert_equal(dispense_cash(8720), 20)"
   ]
  }
 ],
 "metadata": {
  "kernelspec": {
   "display_name": "Python 3",
   "language": "python",
   "name": "python3"
  },
  "language_info": {
   "codemirror_mode": {
    "name": "ipython",
    "version": 3
   },
   "file_extension": ".py",
   "mimetype": "text/x-python",
   "name": "python",
   "nbconvert_exporter": "python",
   "pygments_lexer": "ipython3",
   "version": "3.7.5"
  }
 },
 "nbformat": 4,
 "nbformat_minor": 4
}
