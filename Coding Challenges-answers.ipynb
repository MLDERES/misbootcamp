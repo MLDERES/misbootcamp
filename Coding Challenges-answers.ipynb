{
 "cells": [
  {
   "cell_type": "markdown",
   "metadata": {},
   "source": [
    "# Coding Challenges\n",
    "Now it's time to put all you have learned together to try some unique coding puzzles.  The coding challenges presented here range from very easy to challenging.  For each one there are few hints that you can use if you get stuck.  Each challenge has a space for you to write the answer and a cell following which can be executed to check your answer against a few test cases."
   ]
  },
  {
   "cell_type": "code",
   "execution_count": 66,
   "metadata": {},
   "outputs": [
    {
     "name": "stdout",
     "output_type": "stream",
     "text": [
      "The autoreload extension is already loaded. To reload it, use:\n",
      "  %reload_ext autoreload\n"
     ]
    }
   ],
   "source": [
    "%load_ext autoreload\n",
    "%autoreload 2\n",
    "from challenge_tests import assert_equal"
   ]
  },
  {
   "cell_type": "markdown",
   "metadata": {},
   "source": [
    "## Challenge 1 - What day of the year is it?\n",
    "In this challenge you are to write a function called _day_of_year_ which accepts three integer parameters _day_, _month_, _year_ the result of the function should be an integer representing the number of days that have elapsed since January 1st of the year provided until the date.  For instance, if the function were asked for the day of the year on Feb 2, 2015 the answer returned should be 33 (31 days in Jan + 2 days in February).\n",
    "\n",
    "Remember to take into account leap year! There are three criteria for leap year:\n",
    "<li>The year can be evenly divided by 4</li>\n",
    "<li>If the year can be evenly divided by 100 it is NOT a leap year, unless:</li>\n",
    "<li>The year is also divisble by 400, in which case it is a leap year</li>"
   ]
  },
  {
   "cell_type": "code",
   "execution_count": 119,
   "metadata": {},
   "outputs": [],
   "source": [
    "def day_of_year(day, month, year):\n",
    "    ''' A function to determine what day of the year it is\n",
    "    Parameters\n",
    "    ----------\n",
    "    day : int\n",
    "        The day of the month\n",
    "    month : int\n",
    "        The month of the year\n",
    "    year : int\n",
    "        The year which the day is being calculated\n",
    "    '''\n",
    "    days_in_month = [31, 28, 31, 30, 31, 30, 31, 31, 30, 31, 30, 31]\n",
    "    total_days = day\n",
    "    for m in range(month -1):\n",
    "        total_days = total_days+days_in_month[m]\n",
    "    if (month > 2) and is_leap_year(year):\n",
    "        total_days = total_days + 1\n",
    "        \n",
    "    return total_days\n",
    "\n",
    "def is_leap_year(y):\n",
    "    return (y % 4 == 0) and ((y % 100 != 0) or (y % 400 == 0))\n"
   ]
  },
  {
   "cell_type": "code",
   "execution_count": 130,
   "metadata": {},
   "outputs": [
    {
     "name": "stdout",
     "output_type": "stream",
     "text": [
      "\u001b[32mTest Jan 1, 2000: pass\tResult: 1. Expected 1.\u001b[0m\n",
      "\u001b[32mTest Feb 2, 2015: pass\tResult: 46. Expected 46.\u001b[0m\n",
      "\u001b[32mTest June 30, 2020: pass\tResult: 182. Expected 182.\u001b[0m\n"
     ]
    }
   ],
   "source": [
    "# Run this cell to test your work\n",
    "assert_equal(day_of_year(1,1,2000),1,'Jan 1, 2000')\n",
    "assert_equal(day_of_year(15,2,2015),46,'Feb 2, 2015')\n",
    "assert_equal(day_of_year(30,6,2020),182,'June 30, 2020', 'Did you check for leap year?')"
   ]
  },
  {
   "cell_type": "markdown",
   "metadata": {},
   "source": [
    "## Challenge 2 - Create me a monogram\n",
    "Traditional monograms are represented by three initials (first name, last name and middle initial).  The challenge here is to build a monogram from a name that is supplied.  The monogram should use lowercase letters for the first initial and middle initial, while the last name initial is in caps.  \n",
    "\n",
    "For example,\n",
    "\n",
    "<li>Dwight K. Shrute => d.K.s</li>\n",
    "<li>Eye See Deadpeople => e.S.d</li>\n",
    "<li>Mers Sadees Benz => m.B.s</li>\n",
    "\n",
    "**Hint**\n",
    "**Challenge Plus**"
   ]
  },
  {
   "cell_type": "code",
   "execution_count": 144,
   "metadata": {},
   "outputs": [],
   "source": [
    "def monogram(full_name):\n",
    "    '''\n",
    "    Creates a traditional monogram from a supplied full name\n",
    "    '''\n",
    "    first, middle, last = full_name.split(' ',2)\n",
    "    return f'{first[0].lower()}.{last[0].upper()}.{middle[0].lower()}'"
   ]
  },
  {
   "cell_type": "code",
   "execution_count": 146,
   "metadata": {},
   "outputs": [
    {
     "name": "stdout",
     "output_type": "stream",
     "text": [
      "\u001b[32mTest : pass\tResult: d.S.k. Expected d.S.k.\u001b[0m\n",
      "\u001b[32mTest : pass\tResult: e.D.s. Expected e.D.s.\u001b[0m\n",
      "\u001b[32mTest : pass\tResult: m.B.s. Expected m.B.s.\u001b[0m\n"
     ]
    }
   ],
   "source": [
    "# Basic tests\n",
    "assert_equal(monogram('Dwight Kevin Shrute'),'d.S.k')\n",
    "assert_equal(monogram('Eye see deadpeople'),'e.D.s', hint='Did you check the case?')\n",
    "assert_equal(monogram('mers sadees benz II'),'m.B.s',hint='Did the extra suffix throw you off?')"
   ]
  },
  {
   "cell_type": "markdown",
   "metadata": {},
   "source": [
    "# Challenge 3 - Are you my mother?\n",
    "In this coding challenge you are to determine the matriarchical family tree given a list of mother/daughter pairs.  \n",
    "\n",
    "For this challenge you will need to understand the concept of tuples.  A tuple is a sequence of elements much like a list, but unlike a list, tuples are immutable (that is, they cannot be changed).  Tuples are represented by the parathenses surrounding a comma separated list of items such as (5,6) or ('mother', 'daughter').  In the first case, the tuple is made up of two integers and the second case the tuple is two strings.  Accessing items in a tuple is similar to accessing items in other sequences in Python - by using square brackets.\n",
    "```python\n",
    "> pair = ('mother','daughter')\n",
    "> pair[0]\n",
    "'mother'\n",
    "> pair[1]\n",
    "'daughter'\n",
    "```\n",
    "\n",
    "Now on with the challenge.  You will be provided a list of tuples, the first name will always be the mother of the second name.  Given this list of names, you are to develop the family tree and provide the relationship between the target pair.\n",
    "\n",
    "For instance, if the `source_list` is \n",
    "```[('Enid','Susan'),('Enid','Diane'),('Susan','Deborah')] ```\n",
    "then the family tree represented is \n",
    "```\n",
    "        Enid\n",
    "          |\n",
    "     |--------|\n",
    "   Susan     Diane\n",
    "     |\n",
    "   Deborah\n",
    "```\n",
    "and then if the `target_list` is `[('Enid','Deborah')]` then the correct response is `Granddaughter`, as Deborah is the _granddaughter_ of Enid.\n",
    "\n",
    "There will only every be only 3 generations (maximum) with varying number of children for each parent, but each child will only have a single parent (we are only dealing with the females in the tree).  Your response should be one of \n",
    "```python\n",
    "Mother\n",
    "Daughter\n",
    "Grandmother\n",
    "Granddaughter\n",
    "Sister\n",
    "Cousin\n",
    "Aunt\n",
    "Niece\n",
    "```\n",
    ">**Remember**\n",
    "><li>Sisters have the same mother.</li>\n",
    "><li>Cousins have the same grandmother.</li>\n",
    "><li>A niece's grandmother is the mother of her Aunt.</li>\n",
    "><li>An Aunt's mother is the grandmother of her niece.</li>\n",
    "\n",
    "**Hint**: You may consider using a [dictionary](https://www.w3schools.com/python/python_dictionaries.asp#:~:text=%20Python%20Dictionaries%20%201%20Dictionary.%20A%20dictionary,Items.%20%208%20Removing%20Items.%20%20More%20) data type to solve this one.\n"
   ]
  },
  {
   "cell_type": "code",
   "execution_count": 159,
   "metadata": {},
   "outputs": [
    {
     "data": {
      "text/plain": [
       "'Daughter'"
      ]
     },
     "execution_count": 159,
     "metadata": {},
     "output_type": "execute_result"
    },
    {
     "data": {
      "text/plain": [
       "'Sister'"
      ]
     },
     "execution_count": 159,
     "metadata": {},
     "output_type": "execute_result"
    }
   ],
   "source": [
    "def relations(family_list, target_pair):\n",
    "    '''\n",
    "    Determines the relationship of the two females in the target_pair given the family tree described by the family_list\n",
    "    '''\n",
    "    parents = {}\n",
    "    for parent, child in family_list:\n",
    "        # Build a list of children by specifying the parent\n",
    "        parents[child]  = parent\n",
    "        \n",
    "        # Now get the targets\n",
    "        gen_1 = target_pair[0]\n",
    "        gen_2 = target_pair[1]\n",
    "        \n",
    "        gen_1_parent = parents.get(gen_1)\n",
    "        gen_1_parent_parent = parents.get(gen_1_parent)\n",
    "        gen_2_parent = parents.get(gen_2)\n",
    "        gen_2_parent_parent = parents.get(gen_2_parent)\n",
    "        \n",
    "        if gen_2 == gen_1_parent : return 'Mother'\n",
    "        if gen_2 == gen_1_parent_parent : return 'Grandmother'\n",
    "        if gen_1 == gen_2_parent : return 'Daughter'\n",
    "        if gen_1 == gen_2_parent_parent : return 'Granddaughter'\n",
    "        if gen_1_parent == gen_2_parent : return 'Sister'\n",
    "        if gen_1_parent_parent == gen_2_parent_parent : return 'Cousin'\n",
    "        if gen_1_parent_parent == gen_2_parent : return 'Aunt'\n",
    "        if gen_1_parent == gen_2_parent_parent : return 'Niece'\n"
   ]
  }
 ],
 "metadata": {
  "kernelspec": {
   "display_name": "Python 3",
   "language": "python",
   "name": "python3"
  },
  "language_info": {
   "codemirror_mode": {
    "name": "ipython",
    "version": 3
   },
   "file_extension": ".py",
   "mimetype": "text/x-python",
   "name": "python",
   "nbconvert_exporter": "python",
   "pygments_lexer": "ipython3",
   "version": "3.7.5"
  }
 },
 "nbformat": 4,
 "nbformat_minor": 4
}
